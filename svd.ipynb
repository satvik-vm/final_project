{
 "cells": [
  {
   "cell_type": "code",
   "execution_count": 1,
   "metadata": {},
   "outputs": [
    {
     "name": "stderr",
     "output_type": "stream",
     "text": [
      "Warning: Ignoring XDG_SESSION_TYPE=wayland on Gnome. Use QT_QPA_PLATFORM=wayland to run on Wayland anyway.\n"
     ]
    }
   ],
   "source": [
    "import wrn_mixup_model\n",
    "from data.datamgr import SimpleDataManager , SetDataManager\n",
    "import torch\n",
    "import numpy as np\n",
    "import matplotlib.pyplot as plt\n",
    "import os\n",
    "%matplotlib qt"
   ]
  },
  {
   "cell_type": "code",
   "execution_count": 2,
   "metadata": {},
   "outputs": [],
   "source": [
    "num_classes = 200\n",
    "image_size = 80\n",
    "\n",
    "bridge_input_size = 640\n",
    "bridge_output_size = 60\n",
    "base_file = 'filelists/miniImagenet/base.json'\n",
    "\n",
    "batch_size = 250\n",
    "alpha = 2.0"
   ]
  },
  {
   "cell_type": "code",
   "execution_count": 3,
   "metadata": {},
   "outputs": [],
   "source": [
    "device = torch.device('cuda') if torch.cuda.is_available() else torch.device('cpu')"
   ]
  },
  {
   "cell_type": "code",
   "execution_count": 4,
   "metadata": {},
   "outputs": [],
   "source": [
    "base_datamgr    = SimpleDataManager(image_size, batch_size = batch_size)\n",
    "base_loader     = base_datamgr.get_data_loader( base_file , aug = False )"
   ]
  },
  {
   "cell_type": "code",
   "execution_count": 5,
   "metadata": {},
   "outputs": [
    {
     "name": "stderr",
     "output_type": "stream",
     "text": [
      "/home/satvik/Desktop/project/integration/backbone.py:29: FutureWarning: `torch.nn.utils.weight_norm` is deprecated in favor of `torch.nn.utils.parametrizations.weight_norm`.\n",
      "  WeightNorm.apply(self.L, 'weight', dim=0) #split the weight update component to direction and norm\n"
     ]
    },
    {
     "ename": "OutOfMemoryError",
     "evalue": "CUDA out of memory. Tried to allocate 2.00 MiB. GPU 0 has a total capacity of 5.79 GiB of which 3.06 MiB is free. Process 581631 has 5.67 GiB memory in use. Including non-PyTorch memory, this process has 110.00 MiB memory in use. Of the allocated memory 1.87 MiB is allocated by PyTorch, and 130.00 KiB is reserved by PyTorch but unallocated. If reserved but unallocated memory is large try setting PYTORCH_CUDA_ALLOC_CONF=expandable_segments:True to avoid fragmentation.  See documentation for Memory Management  (https://pytorch.org/docs/stable/notes/cuda.html#environment-variables)",
     "output_type": "error",
     "traceback": [
      "\u001b[0;31m---------------------------------------------------------------------------\u001b[0m",
      "\u001b[0;31mOutOfMemoryError\u001b[0m                          Traceback (most recent call last)",
      "Cell \u001b[0;32mIn[5], line 3\u001b[0m\n\u001b[1;32m      1\u001b[0m cnn_model_path \u001b[38;5;241m=\u001b[39m \u001b[38;5;124m\"\u001b[39m\u001b[38;5;124m../checkpoints/train_64_val_16_test_20/30.tar\u001b[39m\u001b[38;5;124m\"\u001b[39m\n\u001b[0;32m----> 3\u001b[0m cnn_model \u001b[38;5;241m=\u001b[39m \u001b[43mwrn_mixup_model\u001b[49m\u001b[38;5;241;43m.\u001b[39;49m\u001b[43mwrn28_10\u001b[49m\u001b[43m(\u001b[49m\u001b[43mnum_classes\u001b[49m\u001b[38;5;241;43m=\u001b[39;49m\u001b[38;5;241;43m200\u001b[39;49m\u001b[43m)\u001b[49m\u001b[38;5;241;43m.\u001b[39;49m\u001b[43mto\u001b[49m\u001b[43m(\u001b[49m\u001b[43mdevice\u001b[49m\u001b[43m)\u001b[49m\n\u001b[1;32m      5\u001b[0m checkpoint \u001b[38;5;241m=\u001b[39m torch\u001b[38;5;241m.\u001b[39mload(cnn_model_path, weights_only\u001b[38;5;241m=\u001b[39m\u001b[38;5;28;01mFalse\u001b[39;00m)\n\u001b[1;32m      7\u001b[0m cnn_model\u001b[38;5;241m.\u001b[39mload_state_dict(checkpoint[\u001b[38;5;124m'\u001b[39m\u001b[38;5;124mstate\u001b[39m\u001b[38;5;124m'\u001b[39m])\n",
      "File \u001b[0;32m~/.conda/envs/final_project/lib/python3.12/site-packages/torch/nn/modules/module.py:1340\u001b[0m, in \u001b[0;36mModule.to\u001b[0;34m(self, *args, **kwargs)\u001b[0m\n\u001b[1;32m   1337\u001b[0m         \u001b[38;5;28;01melse\u001b[39;00m:\n\u001b[1;32m   1338\u001b[0m             \u001b[38;5;28;01mraise\u001b[39;00m\n\u001b[0;32m-> 1340\u001b[0m \u001b[38;5;28;01mreturn\u001b[39;00m \u001b[38;5;28;43mself\u001b[39;49m\u001b[38;5;241;43m.\u001b[39;49m\u001b[43m_apply\u001b[49m\u001b[43m(\u001b[49m\u001b[43mconvert\u001b[49m\u001b[43m)\u001b[49m\n",
      "File \u001b[0;32m~/.conda/envs/final_project/lib/python3.12/site-packages/torch/nn/modules/module.py:900\u001b[0m, in \u001b[0;36mModule._apply\u001b[0;34m(self, fn, recurse)\u001b[0m\n\u001b[1;32m    898\u001b[0m \u001b[38;5;28;01mif\u001b[39;00m recurse:\n\u001b[1;32m    899\u001b[0m     \u001b[38;5;28;01mfor\u001b[39;00m module \u001b[38;5;129;01min\u001b[39;00m \u001b[38;5;28mself\u001b[39m\u001b[38;5;241m.\u001b[39mchildren():\n\u001b[0;32m--> 900\u001b[0m         \u001b[43mmodule\u001b[49m\u001b[38;5;241;43m.\u001b[39;49m\u001b[43m_apply\u001b[49m\u001b[43m(\u001b[49m\u001b[43mfn\u001b[49m\u001b[43m)\u001b[49m\n\u001b[1;32m    902\u001b[0m \u001b[38;5;28;01mdef\u001b[39;00m \u001b[38;5;21mcompute_should_use_set_data\u001b[39m(tensor, tensor_applied):\n\u001b[1;32m    903\u001b[0m     \u001b[38;5;28;01mif\u001b[39;00m torch\u001b[38;5;241m.\u001b[39m_has_compatible_shallow_copy_type(tensor, tensor_applied):\n\u001b[1;32m    904\u001b[0m         \u001b[38;5;66;03m# If the new tensor has compatible tensor type as the existing tensor,\u001b[39;00m\n\u001b[1;32m    905\u001b[0m         \u001b[38;5;66;03m# the current behavior is to change the tensor in-place using `.data =`,\u001b[39;00m\n\u001b[0;32m   (...)\u001b[0m\n\u001b[1;32m    910\u001b[0m         \u001b[38;5;66;03m# global flag to let the user control whether they want the future\u001b[39;00m\n\u001b[1;32m    911\u001b[0m         \u001b[38;5;66;03m# behavior of overwriting the existing tensor or not.\u001b[39;00m\n",
      "File \u001b[0;32m~/.conda/envs/final_project/lib/python3.12/site-packages/torch/nn/modules/module.py:900\u001b[0m, in \u001b[0;36mModule._apply\u001b[0;34m(self, fn, recurse)\u001b[0m\n\u001b[1;32m    898\u001b[0m \u001b[38;5;28;01mif\u001b[39;00m recurse:\n\u001b[1;32m    899\u001b[0m     \u001b[38;5;28;01mfor\u001b[39;00m module \u001b[38;5;129;01min\u001b[39;00m \u001b[38;5;28mself\u001b[39m\u001b[38;5;241m.\u001b[39mchildren():\n\u001b[0;32m--> 900\u001b[0m         \u001b[43mmodule\u001b[49m\u001b[38;5;241;43m.\u001b[39;49m\u001b[43m_apply\u001b[49m\u001b[43m(\u001b[49m\u001b[43mfn\u001b[49m\u001b[43m)\u001b[49m\n\u001b[1;32m    902\u001b[0m \u001b[38;5;28;01mdef\u001b[39;00m \u001b[38;5;21mcompute_should_use_set_data\u001b[39m(tensor, tensor_applied):\n\u001b[1;32m    903\u001b[0m     \u001b[38;5;28;01mif\u001b[39;00m torch\u001b[38;5;241m.\u001b[39m_has_compatible_shallow_copy_type(tensor, tensor_applied):\n\u001b[1;32m    904\u001b[0m         \u001b[38;5;66;03m# If the new tensor has compatible tensor type as the existing tensor,\u001b[39;00m\n\u001b[1;32m    905\u001b[0m         \u001b[38;5;66;03m# the current behavior is to change the tensor in-place using `.data =`,\u001b[39;00m\n\u001b[0;32m   (...)\u001b[0m\n\u001b[1;32m    910\u001b[0m         \u001b[38;5;66;03m# global flag to let the user control whether they want the future\u001b[39;00m\n\u001b[1;32m    911\u001b[0m         \u001b[38;5;66;03m# behavior of overwriting the existing tensor or not.\u001b[39;00m\n",
      "    \u001b[0;31m[... skipping similar frames: Module._apply at line 900 (1 times)]\u001b[0m\n",
      "File \u001b[0;32m~/.conda/envs/final_project/lib/python3.12/site-packages/torch/nn/modules/module.py:900\u001b[0m, in \u001b[0;36mModule._apply\u001b[0;34m(self, fn, recurse)\u001b[0m\n\u001b[1;32m    898\u001b[0m \u001b[38;5;28;01mif\u001b[39;00m recurse:\n\u001b[1;32m    899\u001b[0m     \u001b[38;5;28;01mfor\u001b[39;00m module \u001b[38;5;129;01min\u001b[39;00m \u001b[38;5;28mself\u001b[39m\u001b[38;5;241m.\u001b[39mchildren():\n\u001b[0;32m--> 900\u001b[0m         \u001b[43mmodule\u001b[49m\u001b[38;5;241;43m.\u001b[39;49m\u001b[43m_apply\u001b[49m\u001b[43m(\u001b[49m\u001b[43mfn\u001b[49m\u001b[43m)\u001b[49m\n\u001b[1;32m    902\u001b[0m \u001b[38;5;28;01mdef\u001b[39;00m \u001b[38;5;21mcompute_should_use_set_data\u001b[39m(tensor, tensor_applied):\n\u001b[1;32m    903\u001b[0m     \u001b[38;5;28;01mif\u001b[39;00m torch\u001b[38;5;241m.\u001b[39m_has_compatible_shallow_copy_type(tensor, tensor_applied):\n\u001b[1;32m    904\u001b[0m         \u001b[38;5;66;03m# If the new tensor has compatible tensor type as the existing tensor,\u001b[39;00m\n\u001b[1;32m    905\u001b[0m         \u001b[38;5;66;03m# the current behavior is to change the tensor in-place using `.data =`,\u001b[39;00m\n\u001b[0;32m   (...)\u001b[0m\n\u001b[1;32m    910\u001b[0m         \u001b[38;5;66;03m# global flag to let the user control whether they want the future\u001b[39;00m\n\u001b[1;32m    911\u001b[0m         \u001b[38;5;66;03m# behavior of overwriting the existing tensor or not.\u001b[39;00m\n",
      "File \u001b[0;32m~/.conda/envs/final_project/lib/python3.12/site-packages/torch/nn/modules/module.py:927\u001b[0m, in \u001b[0;36mModule._apply\u001b[0;34m(self, fn, recurse)\u001b[0m\n\u001b[1;32m    923\u001b[0m \u001b[38;5;66;03m# Tensors stored in modules are graph leaves, and we don't want to\u001b[39;00m\n\u001b[1;32m    924\u001b[0m \u001b[38;5;66;03m# track autograd history of `param_applied`, so we have to use\u001b[39;00m\n\u001b[1;32m    925\u001b[0m \u001b[38;5;66;03m# `with torch.no_grad():`\u001b[39;00m\n\u001b[1;32m    926\u001b[0m \u001b[38;5;28;01mwith\u001b[39;00m torch\u001b[38;5;241m.\u001b[39mno_grad():\n\u001b[0;32m--> 927\u001b[0m     param_applied \u001b[38;5;241m=\u001b[39m \u001b[43mfn\u001b[49m\u001b[43m(\u001b[49m\u001b[43mparam\u001b[49m\u001b[43m)\u001b[49m\n\u001b[1;32m    928\u001b[0m p_should_use_set_data \u001b[38;5;241m=\u001b[39m compute_should_use_set_data(param, param_applied)\n\u001b[1;32m    930\u001b[0m \u001b[38;5;66;03m# subclasses may have multiple child tensors so we need to use swap_tensors\u001b[39;00m\n",
      "File \u001b[0;32m~/.conda/envs/final_project/lib/python3.12/site-packages/torch/nn/modules/module.py:1326\u001b[0m, in \u001b[0;36mModule.to.<locals>.convert\u001b[0;34m(t)\u001b[0m\n\u001b[1;32m   1319\u001b[0m     \u001b[38;5;28;01mif\u001b[39;00m convert_to_format \u001b[38;5;129;01mis\u001b[39;00m \u001b[38;5;129;01mnot\u001b[39;00m \u001b[38;5;28;01mNone\u001b[39;00m \u001b[38;5;129;01mand\u001b[39;00m t\u001b[38;5;241m.\u001b[39mdim() \u001b[38;5;129;01min\u001b[39;00m (\u001b[38;5;241m4\u001b[39m, \u001b[38;5;241m5\u001b[39m):\n\u001b[1;32m   1320\u001b[0m         \u001b[38;5;28;01mreturn\u001b[39;00m t\u001b[38;5;241m.\u001b[39mto(\n\u001b[1;32m   1321\u001b[0m             device,\n\u001b[1;32m   1322\u001b[0m             dtype \u001b[38;5;28;01mif\u001b[39;00m t\u001b[38;5;241m.\u001b[39mis_floating_point() \u001b[38;5;129;01mor\u001b[39;00m t\u001b[38;5;241m.\u001b[39mis_complex() \u001b[38;5;28;01melse\u001b[39;00m \u001b[38;5;28;01mNone\u001b[39;00m,\n\u001b[1;32m   1323\u001b[0m             non_blocking,\n\u001b[1;32m   1324\u001b[0m             memory_format\u001b[38;5;241m=\u001b[39mconvert_to_format,\n\u001b[1;32m   1325\u001b[0m         )\n\u001b[0;32m-> 1326\u001b[0m     \u001b[38;5;28;01mreturn\u001b[39;00m \u001b[43mt\u001b[49m\u001b[38;5;241;43m.\u001b[39;49m\u001b[43mto\u001b[49m\u001b[43m(\u001b[49m\n\u001b[1;32m   1327\u001b[0m \u001b[43m        \u001b[49m\u001b[43mdevice\u001b[49m\u001b[43m,\u001b[49m\n\u001b[1;32m   1328\u001b[0m \u001b[43m        \u001b[49m\u001b[43mdtype\u001b[49m\u001b[43m \u001b[49m\u001b[38;5;28;43;01mif\u001b[39;49;00m\u001b[43m \u001b[49m\u001b[43mt\u001b[49m\u001b[38;5;241;43m.\u001b[39;49m\u001b[43mis_floating_point\u001b[49m\u001b[43m(\u001b[49m\u001b[43m)\u001b[49m\u001b[43m \u001b[49m\u001b[38;5;129;43;01mor\u001b[39;49;00m\u001b[43m \u001b[49m\u001b[43mt\u001b[49m\u001b[38;5;241;43m.\u001b[39;49m\u001b[43mis_complex\u001b[49m\u001b[43m(\u001b[49m\u001b[43m)\u001b[49m\u001b[43m \u001b[49m\u001b[38;5;28;43;01melse\u001b[39;49;00m\u001b[43m \u001b[49m\u001b[38;5;28;43;01mNone\u001b[39;49;00m\u001b[43m,\u001b[49m\n\u001b[1;32m   1329\u001b[0m \u001b[43m        \u001b[49m\u001b[43mnon_blocking\u001b[49m\u001b[43m,\u001b[49m\n\u001b[1;32m   1330\u001b[0m \u001b[43m    \u001b[49m\u001b[43m)\u001b[49m\n\u001b[1;32m   1331\u001b[0m \u001b[38;5;28;01mexcept\u001b[39;00m \u001b[38;5;167;01mNotImplementedError\u001b[39;00m \u001b[38;5;28;01mas\u001b[39;00m e:\n\u001b[1;32m   1332\u001b[0m     \u001b[38;5;28;01mif\u001b[39;00m \u001b[38;5;28mstr\u001b[39m(e) \u001b[38;5;241m==\u001b[39m \u001b[38;5;124m\"\u001b[39m\u001b[38;5;124mCannot copy out of meta tensor; no data!\u001b[39m\u001b[38;5;124m\"\u001b[39m:\n",
      "\u001b[0;31mOutOfMemoryError\u001b[0m: CUDA out of memory. Tried to allocate 2.00 MiB. GPU 0 has a total capacity of 5.79 GiB of which 3.06 MiB is free. Process 581631 has 5.67 GiB memory in use. Including non-PyTorch memory, this process has 110.00 MiB memory in use. Of the allocated memory 1.87 MiB is allocated by PyTorch, and 130.00 KiB is reserved by PyTorch but unallocated. If reserved but unallocated memory is large try setting PYTORCH_CUDA_ALLOC_CONF=expandable_segments:True to avoid fragmentation.  See documentation for Memory Management  (https://pytorch.org/docs/stable/notes/cuda.html#environment-variables)"
     ]
    }
   ],
   "source": [
    "cnn_model_path = \"../checkpoints/train_64_val_16_test_20/30.tar\"\n",
    "\n",
    "cnn_model = wrn_mixup_model.wrn28_10(num_classes=200).to(device)\n",
    "\n",
    "checkpoint = torch.load(cnn_model_path, weights_only=False)\n",
    "\n",
    "cnn_model.load_state_dict(checkpoint['state'])\n",
    "\n",
    "for name, param in cnn_model.named_parameters():\n",
    "\tparam.requires_grad = False"
   ]
  },
  {
   "cell_type": "code",
   "execution_count": null,
   "metadata": {},
   "outputs": [],
   "source": [
    "projection_matrix = []\n",
    "projection_matrix_file = os.path.join(os.getcwd(), 'projections.pt')\n",
    "if not os.path.exists(projection_matrix_file):\n",
    "\tfor batch_idx, (input_var, target_var) in enumerate(base_loader):\n",
    "\t\tinput_var, target_var = input_var.to(device), target_var.to(device)\n",
    "\t\tlam = np.random.beta(alpha, alpha)\n",
    "\t\tout , _ , _ , _  = cnn_model(input_var, target_var, mixup_hidden= True, mixup_alpha = alpha , lam = lam)\n",
    "\t\t# print(out.size())\n",
    "\t\t# print(type(out))\n",
    "\t\tprojection_matrix.extend(out)\n",
    "\ttorch.save(projection_matrix, projection_matrix_file)\n",
    "else:\n",
    "\tprojection_matrix = torch.load(projection_matrix_file)"
   ]
  },
  {
   "cell_type": "code",
   "execution_count": null,
   "metadata": {},
   "outputs": [
    {
     "data": {
      "text/plain": [
       "4800"
      ]
     },
     "execution_count": 22,
     "metadata": {},
     "output_type": "execute_result"
    }
   ],
   "source": [
    "len(projection_matrix)"
   ]
  },
  {
   "cell_type": "code",
   "execution_count": null,
   "metadata": {},
   "outputs": [],
   "source": [
    "projection_matrix = torch.stack(projection_matrix)"
   ]
  },
  {
   "cell_type": "code",
   "execution_count": null,
   "metadata": {},
   "outputs": [],
   "source": [
    "U, S, Vh = torch.svd(projection_matrix, compute_uv=False, some=False)"
   ]
  },
  {
   "cell_type": "code",
   "execution_count": null,
   "metadata": {},
   "outputs": [
    {
     "name": "stdout",
     "output_type": "stream",
     "text": [
      "[23.681843   13.27693    11.864118   11.282054    9.433528    9.13283\n",
      "  8.779941    8.008631    7.7744675   6.825226    6.019734    5.5892816\n",
      "  5.32506     5.2381105   5.019699    4.903561    4.7336783   4.4770136\n",
      "  4.2729383   4.2468452   4.1121492   4.046312    3.9700103   3.7977247\n",
      "  3.7576694   3.65765     3.5672007   3.527691    3.472006    3.3690312\n",
      "  3.3193824   3.2839599   3.145639    3.0596638   3.0072079   2.9635873\n",
      "  2.9530938   2.8601274   2.8297403   2.7840686   2.7400956   2.730636\n",
      "  2.691019    2.6495037   2.6290226   2.5753536   2.5210783   2.5138235\n",
      "  2.4580092   2.39507     2.3437877   2.3300946   2.2543514   2.2497795\n",
      "  2.2472925   2.2205276   2.204132    2.1437607   2.1270826   2.0946105\n",
      "  2.0871513   2.052187    2.048587    2.022262    1.9896657   1.9859841\n",
      "  1.9564862   1.9262658   1.8970349   1.8916609   1.8804338   1.8518564\n",
      "  1.8359301   1.7973727   1.7855167   1.7669227   1.7557348   1.7347474\n",
      "  1.7124219   1.6948256   1.6768793   1.6525406   1.6370735   1.6242721\n",
      "  1.6020126   1.5668327   1.540781    1.5199158   1.5022951   1.4849454\n",
      "  1.4725226   1.4580772   1.4467455   1.4389815   1.4162785   1.408957\n",
      "  1.3840882   1.3774455   1.3742478   1.3484372   1.34339     1.3343107\n",
      "  1.3242091   1.3164347   1.3098676   1.2976574   1.2863317   1.2799183\n",
      "  1.2674737   1.2505958   1.2451639   1.2206467   1.2180846   1.2097688\n",
      "  1.1982116   1.1888527   1.1749997   1.1712711   1.1589345   1.150642\n",
      "  1.1375886   1.1271687   1.1218868   1.1098596   1.1067779   1.089381\n",
      "  1.0849453   1.0813756   1.0602934   1.0594994   1.0526674   1.0487412\n",
      "  1.0398086   1.0377645   1.0232376   1.0170327   1.0169172   1.0056996\n",
      "  1.0005913   0.99279517  0.9862278   0.9845065   0.9733863   0.9700964\n",
      "  0.96632314  0.95909303  0.9507428   0.94430894  0.93955666  0.9361682\n",
      "  0.92968935  0.9276526   0.9212049   0.91529465  0.9112268   0.90184706\n",
      "  0.8931172   0.8887096   0.8871498   0.8853362   0.87959427  0.8766507\n",
      "  0.87144625  0.86767715  0.86170053  0.8567511   0.85073024  0.84533554\n",
      "  0.84472567  0.8406851   0.8354726   0.83397585  0.8294167   0.8220461\n",
      "  0.8179071   0.81282973  0.81008035  0.8069346   0.7990799   0.7969381\n",
      "  0.7943188   0.788892    0.78411126  0.7834951   0.78057235  0.7768962\n",
      "  0.77603865  0.77139986  0.76658577  0.7657508   0.76065767  0.7593977\n",
      "  0.7518047   0.74993104  0.7455351   0.7443549   0.74134576  0.7388599\n",
      "  0.736524    0.72849816  0.72596765  0.7252422   0.7227939   0.71796113\n",
      "  0.71623456  0.7132765   0.71145374  0.70668685  0.7056269   0.7041985\n",
      "  0.70031375  0.69837517  0.6921634   0.6881739   0.68708473  0.68556887\n",
      "  0.683521    0.68085873  0.67734355  0.67598206  0.6751343   0.66997695\n",
      "  0.6667023   0.6628376   0.66269046  0.6586098   0.6543753   0.65255064\n",
      "  0.65006465  0.64825845  0.6467896   0.6438483   0.64219874  0.6409914\n",
      "  0.6353719   0.63387364  0.6311289   0.6271492   0.6256956   0.6226153\n",
      "  0.6191318   0.6169176   0.6160443   0.6140342   0.6121715   0.61027586\n",
      "  0.60815054  0.6060469   0.6033569   0.6015356   0.5985163   0.5963548\n",
      "  0.5945603   0.5931201   0.5920266   0.587624    0.5870072   0.5848673\n",
      "  0.5824647   0.57839143  0.5763042   0.5749261   0.5730661   0.5716043\n",
      "  0.56920326  0.5670993   0.56573933  0.5637531   0.5618394   0.5610727\n",
      "  0.5584714   0.55603844  0.5554996   0.55249417  0.54808325  0.54718524\n",
      "  0.5435562   0.5426474   0.5403251   0.5392657   0.53740555  0.5362077\n",
      "  0.5347839   0.5318489   0.5298351   0.5278239   0.52530015  0.5238496\n",
      "  0.52313846  0.520579    0.51887697  0.5175502   0.5160083   0.5143442\n",
      "  0.5136613   0.51248974  0.5117204   0.50754136  0.5061517   0.5044275\n",
      "  0.5043504   0.50085866  0.49974933  0.49841467  0.49686617  0.49454644\n",
      "  0.49276924  0.49117884  0.48893887  0.4855561   0.484723    0.4845576\n",
      "  0.48319247  0.4820131   0.47996506  0.4795164   0.4793411   0.47628763\n",
      "  0.47474447  0.47146067  0.46953794  0.46709988  0.4660531   0.46580777\n",
      "  0.4641422   0.46322662  0.4595476   0.45821387  0.4559512   0.45567456\n",
      "  0.453223    0.45276117  0.45121148  0.44976798  0.44781297  0.44671065\n",
      "  0.44565448  0.4450402   0.44237962  0.4418587   0.44103447  0.43908674\n",
      "  0.4375177   0.43537697  0.43362954  0.43241194  0.43123648  0.43073162\n",
      "  0.42978442  0.42803797  0.42788318  0.42576692  0.42392987  0.42327926\n",
      "  0.42124498  0.420077    0.41797143  0.4169484   0.41538942  0.41386703\n",
      "  0.4124841   0.41149187  0.41038698  0.40803438  0.40697604  0.40647554\n",
      "  0.4044634   0.4025732   0.40146998  0.40003473  0.39880058  0.39727002\n",
      "  0.3968751   0.3947964   0.39409783  0.39348155  0.39168733  0.39116177\n",
      "  0.39071473  0.38925955  0.38851765  0.3874897   0.38682973  0.38641658\n",
      "  0.38404554  0.3827138   0.3817263   0.37971908  0.3788603   0.37841716\n",
      "  0.37718368  0.3757548   0.37431446  0.3718012   0.37034425  0.36929363\n",
      "  0.36792687  0.36723053  0.36567697  0.36471093  0.3636101   0.36191618\n",
      "  0.36057633  0.35968795  0.35895458  0.3574834   0.356586    0.3562686\n",
      "  0.35607037  0.3551029   0.35382473  0.35286534  0.35068265  0.34978542\n",
      "  0.34946984  0.34709606  0.34691963  0.34661865  0.34441602  0.34403202\n",
      "  0.34343606  0.34296256  0.34176067  0.34101123  0.33977652  0.33741724\n",
      "  0.33624566  0.3362081   0.33326834  0.33200693  0.33144122  0.3297117\n",
      "  0.32878336  0.3283624   0.32800663  0.32614928  0.32598302  0.3244354\n",
      "  0.32367933  0.32320917  0.32116523  0.3202469   0.31967685  0.31856823\n",
      "  0.31767675  0.3164938   0.31569526  0.31499377  0.3138754   0.3120785\n",
      "  0.31185868  0.3104638   0.30982125  0.30963036  0.30741262  0.30575013\n",
      "  0.30504596  0.30405718  0.30352974  0.30188882  0.3015361   0.3005064\n",
      "  0.29902023  0.2979992   0.29687163  0.29595512  0.29543686  0.29512388\n",
      "  0.29453042  0.29374704  0.29195777  0.29086143  0.28952935  0.28793865\n",
      "  0.28741458  0.287107    0.2864737   0.28598458  0.2840332   0.28347108\n",
      "  0.28311345  0.28143245  0.28058594  0.27954334  0.2791625   0.27884123\n",
      "  0.27805758  0.27581984  0.27475384  0.274215    0.27370295  0.27264693\n",
      "  0.271507    0.2699726   0.26950648  0.26907825  0.2682085   0.2680659\n",
      "  0.26715145  0.26634124  0.26573482  0.2649108   0.26287502  0.26234952\n",
      "  0.26104873  0.26039216  0.2599627   0.2594519   0.2579695   0.25694397\n",
      "  0.25612605  0.25495756  0.2539654   0.2524059   0.25139293  0.25062886\n",
      "  0.24956554  0.24927072  0.24857716  0.24793978  0.24690817  0.24579494\n",
      "  0.24504092  0.24414492  0.24263084  0.24197368  0.24037465  0.24000686\n",
      "  0.23867203  0.23815499  0.23721309  0.23647943  0.23582967  0.23566756\n",
      "  0.2345259   0.23379545  0.23282208  0.23161809  0.23009694  0.2292543\n",
      "  0.22861686  0.2282929   0.22720759  0.22569789  0.22448072  0.22405872\n",
      "  0.22291468  0.2224158   0.22093032  0.21980025  0.21803078  0.21763608\n",
      "  0.21680604  0.21491508  0.21344605  0.21260484  0.21153899  0.21032079\n",
      "  0.20909622  0.20891324  0.20837194  0.2069526   0.20589833  0.20516416\n",
      "  0.20490852  0.2041094   0.20257036  0.20077501  0.20042385  0.19878459\n",
      "  0.19806129  0.19782543  0.19633302  0.19495443  0.1938741   0.19271657\n",
      "  0.19253348  0.19093679  0.19020802  0.18899803  0.18683507  0.18604498\n",
      "  0.18564112  0.18427925  0.18376455  0.18292965  0.1819127   0.18137808\n",
      "  0.17978978  0.17824773  0.17759159  0.17598617  0.17576869  0.17478395\n",
      "  0.17426217  0.17272282  0.17098218  0.16925079  0.16892183  0.16789283\n",
      "  0.16753267  0.16575572  0.16435437  0.16422324  0.16342774  0.161673\n",
      "  0.15998824  0.15972535  0.15807104  0.15618083  0.15522467  0.15433049\n",
      "  0.15375586  0.15146863  0.14985763  0.14959653  0.14839227  0.14729792\n",
      "  0.14592592  0.14393635  0.14260277  0.13954805  0.1390746   0.13650288\n",
      "  0.13259137  0.13252246  0.13038807  0.12869053  0.12520869  0.12433481\n",
      "  0.1207893   0.11765771  0.1141445   0.10927312  0.10462091  0.10240323\n",
      "  0.09889936  0.09787099  0.09583754  0.07924541]\n"
     ]
    }
   ],
   "source": [
    "print(S.cpu().numpy())"
   ]
  },
  {
   "cell_type": "code",
   "execution_count": null,
   "metadata": {},
   "outputs": [],
   "source": [
    "x_axis = []\n",
    "for i in range(S.size()[0]):\n",
    "\tx_axis.append(i)"
   ]
  },
  {
   "cell_type": "code",
   "execution_count": null,
   "metadata": {},
   "outputs": [
    {
     "name": "stderr",
     "output_type": "stream",
     "text": [
      "MESA-LOADER: failed to open radeonsi: /home/satvik/.conda/envs/final_project/bin/../lib/libstdc++.so.6: version `GLIBCXX_3.4.30' not found (required by /usr/lib64/dri/radeonsi_dri.so) (search paths /usr/lib64/dri, suffix _dri)\n",
      "failed to load driver: radeonsi\n",
      "MESA-LOADER: failed to open swrast: /home/satvik/.conda/envs/final_project/bin/../lib/libstdc++.so.6: version `GLIBCXX_3.4.30' not found (required by /usr/lib64/dri/swrast_dri.so) (search paths /usr/lib64/dri, suffix _dri)\n"
     ]
    },
    {
     "ename": "",
     "evalue": "",
     "output_type": "error",
     "traceback": [
      "\u001b[1;31mThe Kernel crashed while executing code in the current cell or a previous cell. \n",
      "\u001b[1;31mPlease review the code in the cell(s) to identify a possible cause of the failure. \n",
      "\u001b[1;31mClick <a href='https://aka.ms/vscodeJupyterKernelCrash'>here</a> for more info. \n",
      "\u001b[1;31mView Jupyter <a href='command:jupyter.viewOutput'>log</a> for further details."
     ]
    }
   ],
   "source": [
    "plt.plot(x_axis, S.tolist())\n",
    "plt.show()"
   ]
  }
 ],
 "metadata": {
  "kernelspec": {
   "display_name": "final_project",
   "language": "python",
   "name": "python3"
  },
  "language_info": {
   "codemirror_mode": {
    "name": "ipython",
    "version": 3
   },
   "file_extension": ".py",
   "mimetype": "text/x-python",
   "name": "python",
   "nbconvert_exporter": "python",
   "pygments_lexer": "ipython3",
   "version": "3.12.4"
  }
 },
 "nbformat": 4,
 "nbformat_minor": 2
}
